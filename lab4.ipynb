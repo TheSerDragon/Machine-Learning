{
 "cells": [
  {
   "cell_type": "markdown",
   "id": "8ea35fc4",
   "metadata": {},
   "source": [
    "# Цель лабораторной работы"
   ]
  },
  {
   "cell_type": "markdown",
   "id": "2b6ca374",
   "metadata": {},
   "source": [
    "Изучение линейных моделей, SVM и деревьев решений."
   ]
  },
  {
   "cell_type": "markdown",
   "id": "ae7fcfe8",
   "metadata": {},
   "source": [
    "# Задание"
   ]
  },
  {
   "cell_type": "markdown",
   "id": "a42377e5",
   "metadata": {},
   "source": [
    "1. Выберите набор данных (датасет) для решения задачи классификации или регрессии.\n",
    "2. В случае необходимости проведите удаление или заполнение пропусков и кодирование категориальных признаков.\n",
    "3. С использованием метода train_test_split разделите выборку на обучающую и тестовую.\n",
    "4. Обучите следующие модели:\n",
    "- одну из линейных моделей (линейную или полиномиальную регрессию при решении задачи регрессии, логистическую регрессию при решении задачи классификации);\n",
    "- SVM;\n",
    "- дерево решений.\n",
    "5. Оцените качество моделей с помощью двух подходящих для задачи метрик. Сравните качество полученных моделей.\n",
    "6. Постройте график, показывающий важность признаков в дереве решений.\n",
    "7. Визуализируйте дерево решений или выведите правила дерева решений в текстовом виде."
   ]
  },
  {
   "cell_type": "markdown",
   "id": "d6b72842",
   "metadata": {},
   "source": [
    "# Ход выполнения работы"
   ]
  },
  {
   "cell_type": "code",
   "execution_count": 1,
   "id": "3fcbf642",
   "metadata": {},
   "outputs": [],
   "source": [
    "from io import StringIO \n",
    "from IPython.display import Image\n",
    "import graphviz \n",
    "import pydotplus\n",
    "import numpy as np\n",
    "import pandas as pd\n",
    "import math\n",
    "from operator import itemgetter\n",
    "from typing import Dict, Tuple\n",
    "from sklearn.tree import DecisionTreeClassifier, DecisionTreeRegressor, export_graphviz\n",
    "from sklearn.tree import export_text\n",
    "from sklearn.model_selection import train_test_split\n",
    "from sklearn.model_selection import GridSearchCV\n",
    "from sklearn.ensemble import RandomForestRegressor, GradientBoostingRegressor\n",
    "from sklearn.ensemble import RandomForestClassifier, GradientBoostingClassifier\n",
    "from sklearn.preprocessing import StandardScaler\n",
    "from sklearn.linear_model import LogisticRegression\n",
    "from sklearn.metrics import accuracy_score, precision_score, recall_score, f1_score\n",
    "from sklearn.metrics import mean_absolute_error\n",
    "from sklearn.metrics import median_absolute_error, r2_score\n",
    "from sklearn.svm import SVC, NuSVC, LinearSVC\n",
    "from sklearn.metrics._classification import classification_report\n",
    "from sklearn.model_selection import cross_val_score, cross_validate\n",
    "from sklearn.metrics import confusion_matrix, ConfusionMatrixDisplay\n",
    "from sklearn import tree\n",
    "from IPython.core.display import HTML\n",
    "import matplotlib.pyplot as plt\n",
    "%matplotlib inline "
   ]
  },
  {
   "cell_type": "code",
   "execution_count": 2,
   "id": "62036a8e",
   "metadata": {},
   "outputs": [],
   "source": [
    "df = pd.read_csv('heart_failure_clinical_records_dataset.csv')"
   ]
  },
  {
   "cell_type": "code",
   "execution_count": 3,
   "id": "94c7d64e",
   "metadata": {},
   "outputs": [
    {
     "data": {
      "text/html": [
       "<div>\n",
       "<style scoped>\n",
       "    .dataframe tbody tr th:only-of-type {\n",
       "        vertical-align: middle;\n",
       "    }\n",
       "\n",
       "    .dataframe tbody tr th {\n",
       "        vertical-align: top;\n",
       "    }\n",
       "\n",
       "    .dataframe thead th {\n",
       "        text-align: right;\n",
       "    }\n",
       "</style>\n",
       "<table border=\"1\" class=\"dataframe\">\n",
       "  <thead>\n",
       "    <tr style=\"text-align: right;\">\n",
       "      <th></th>\n",
       "      <th>age</th>\n",
       "      <th>anaemia</th>\n",
       "      <th>creatinine_phosphokinase</th>\n",
       "      <th>diabetes</th>\n",
       "      <th>ejection_fraction</th>\n",
       "      <th>high_blood_pressure</th>\n",
       "      <th>platelets</th>\n",
       "      <th>serum_creatinine</th>\n",
       "      <th>serum_sodium</th>\n",
       "      <th>sex</th>\n",
       "      <th>smoking</th>\n",
       "      <th>time</th>\n",
       "      <th>DEATH_EVENT</th>\n",
       "    </tr>\n",
       "  </thead>\n",
       "  <tbody>\n",
       "    <tr>\n",
       "      <th>0</th>\n",
       "      <td>75.0</td>\n",
       "      <td>0</td>\n",
       "      <td>582</td>\n",
       "      <td>0</td>\n",
       "      <td>20</td>\n",
       "      <td>1</td>\n",
       "      <td>265000.00</td>\n",
       "      <td>1.9</td>\n",
       "      <td>130</td>\n",
       "      <td>1</td>\n",
       "      <td>0</td>\n",
       "      <td>4</td>\n",
       "      <td>1</td>\n",
       "    </tr>\n",
       "    <tr>\n",
       "      <th>1</th>\n",
       "      <td>55.0</td>\n",
       "      <td>0</td>\n",
       "      <td>7861</td>\n",
       "      <td>0</td>\n",
       "      <td>38</td>\n",
       "      <td>0</td>\n",
       "      <td>263358.03</td>\n",
       "      <td>1.1</td>\n",
       "      <td>136</td>\n",
       "      <td>1</td>\n",
       "      <td>0</td>\n",
       "      <td>6</td>\n",
       "      <td>1</td>\n",
       "    </tr>\n",
       "    <tr>\n",
       "      <th>2</th>\n",
       "      <td>65.0</td>\n",
       "      <td>0</td>\n",
       "      <td>146</td>\n",
       "      <td>0</td>\n",
       "      <td>20</td>\n",
       "      <td>0</td>\n",
       "      <td>162000.00</td>\n",
       "      <td>1.3</td>\n",
       "      <td>129</td>\n",
       "      <td>1</td>\n",
       "      <td>1</td>\n",
       "      <td>7</td>\n",
       "      <td>1</td>\n",
       "    </tr>\n",
       "    <tr>\n",
       "      <th>3</th>\n",
       "      <td>50.0</td>\n",
       "      <td>1</td>\n",
       "      <td>111</td>\n",
       "      <td>0</td>\n",
       "      <td>20</td>\n",
       "      <td>0</td>\n",
       "      <td>210000.00</td>\n",
       "      <td>1.9</td>\n",
       "      <td>137</td>\n",
       "      <td>1</td>\n",
       "      <td>0</td>\n",
       "      <td>7</td>\n",
       "      <td>1</td>\n",
       "    </tr>\n",
       "    <tr>\n",
       "      <th>4</th>\n",
       "      <td>65.0</td>\n",
       "      <td>1</td>\n",
       "      <td>160</td>\n",
       "      <td>1</td>\n",
       "      <td>20</td>\n",
       "      <td>0</td>\n",
       "      <td>327000.00</td>\n",
       "      <td>2.7</td>\n",
       "      <td>116</td>\n",
       "      <td>0</td>\n",
       "      <td>0</td>\n",
       "      <td>8</td>\n",
       "      <td>1</td>\n",
       "    </tr>\n",
       "  </tbody>\n",
       "</table>\n",
       "</div>"
      ],
      "text/plain": [
       "    age  anaemia  creatinine_phosphokinase  diabetes  ejection_fraction  \\\n",
       "0  75.0        0                       582         0                 20   \n",
       "1  55.0        0                      7861         0                 38   \n",
       "2  65.0        0                       146         0                 20   \n",
       "3  50.0        1                       111         0                 20   \n",
       "4  65.0        1                       160         1                 20   \n",
       "\n",
       "   high_blood_pressure  platelets  serum_creatinine  serum_sodium  sex  \\\n",
       "0                    1  265000.00               1.9           130    1   \n",
       "1                    0  263358.03               1.1           136    1   \n",
       "2                    0  162000.00               1.3           129    1   \n",
       "3                    0  210000.00               1.9           137    1   \n",
       "4                    0  327000.00               2.7           116    0   \n",
       "\n",
       "   smoking  time  DEATH_EVENT  \n",
       "0        0     4            1  \n",
       "1        0     6            1  \n",
       "2        1     7            1  \n",
       "3        0     7            1  \n",
       "4        0     8            1  "
      ]
     },
     "execution_count": 3,
     "metadata": {},
     "output_type": "execute_result"
    }
   ],
   "source": [
    "df.head()"
   ]
  },
  {
   "cell_type": "code",
   "execution_count": 4,
   "id": "3c2a4b03",
   "metadata": {},
   "outputs": [
    {
     "name": "stdout",
     "output_type": "stream",
     "text": [
      "<class 'pandas.core.frame.DataFrame'>\n",
      "RangeIndex: 299 entries, 0 to 298\n",
      "Data columns (total 13 columns):\n",
      " #   Column                    Non-Null Count  Dtype  \n",
      "---  ------                    --------------  -----  \n",
      " 0   age                       299 non-null    float64\n",
      " 1   anaemia                   299 non-null    int64  \n",
      " 2   creatinine_phosphokinase  299 non-null    int64  \n",
      " 3   diabetes                  299 non-null    int64  \n",
      " 4   ejection_fraction         299 non-null    int64  \n",
      " 5   high_blood_pressure       299 non-null    int64  \n",
      " 6   platelets                 299 non-null    float64\n",
      " 7   serum_creatinine          299 non-null    float64\n",
      " 8   serum_sodium              299 non-null    int64  \n",
      " 9   sex                       299 non-null    int64  \n",
      " 10  smoking                   299 non-null    int64  \n",
      " 11  time                      299 non-null    int64  \n",
      " 12  DEATH_EVENT               299 non-null    int64  \n",
      "dtypes: float64(3), int64(10)\n",
      "memory usage: 30.5 KB\n"
     ]
    }
   ],
   "source": [
    "df.info()"
   ]
  },
  {
   "cell_type": "code",
   "execution_count": 5,
   "id": "b759fd13",
   "metadata": {},
   "outputs": [
    {
     "name": "stdout",
     "output_type": "stream",
     "text": [
      "Диабетики:\n",
      "                          count           mean            std      min  \\\n",
      "age                       125.0      59.418672      10.525180     40.0   \n",
      "anaemia                   125.0       0.424000       0.496179      0.0   \n",
      "creatinine_phosphokinase  125.0     570.824000     908.977191     30.0   \n",
      "diabetes                  125.0       1.000000       0.000000      1.0   \n",
      "ejection_fraction         125.0      38.016000      11.283719     15.0   \n",
      "high_blood_pressure       125.0       0.344000       0.476953      0.0   \n",
      "platelets                 125.0  273978.578160  110584.605487  25100.0   \n",
      "serum_creatinine          125.0       1.336640       0.840174      0.6   \n",
      "serum_sodium              125.0     136.160000       5.185899    113.0   \n",
      "sex                       125.0       0.560000       0.498384      0.0   \n",
      "smoking                   125.0       0.240000       0.428802      0.0   \n",
      "time                      125.0     133.344000      80.332284      8.0   \n",
      "DEATH_EVENT               125.0       0.320000       0.468353      0.0   \n",
      "\n",
      "                               25%        50%       75%       max  \n",
      "age                           50.0      60.00      65.0      94.0  \n",
      "anaemia                        0.0       0.00       1.0       1.0  \n",
      "creatinine_phosphokinase     127.0     260.00     582.0    7702.0  \n",
      "diabetes                       1.0       1.00       1.0       1.0  \n",
      "ejection_fraction             30.0      38.00      40.0      62.0  \n",
      "high_blood_pressure            0.0       0.00       1.0       1.0  \n",
      "platelets                 221000.0  263358.03  310000.0  850000.0  \n",
      "serum_creatinine               1.0       1.10       1.4       6.8  \n",
      "serum_sodium                 134.0     136.00     140.0     146.0  \n",
      "sex                            0.0       1.00       1.0       1.0  \n",
      "smoking                        0.0       0.00       0.0       1.0  \n",
      "time                          71.0     120.00     210.0     278.0  \n",
      "DEATH_EVENT                    0.0       0.00       1.0       1.0  \n",
      "\\Недиабетики:\n",
      "                          count           mean           std      min  \\\n",
      "age                       174.0      61.850575     12.721134     40.0   \n",
      "anaemia                   174.0       0.436782      0.497419      0.0   \n",
      "creatinine_phosphokinase  174.0     589.752874   1014.561292     23.0   \n",
      "diabetes                  174.0       0.000000      0.000000      0.0   \n",
      "ejection_fraction         174.0      38.132184     12.247439     14.0   \n",
      "high_blood_pressure       174.0       0.356322      0.480294      0.0   \n",
      "platelets                 174.0  255728.324598  87017.053912  47000.0   \n",
      "serum_creatinine          174.0       1.435000      1.154755      0.5   \n",
      "serum_sodium              174.0     136.959770      3.740667    127.0   \n",
      "sex                       174.0       0.712644      0.453835      0.0   \n",
      "smoking                   174.0       0.379310      0.486616      0.0   \n",
      "time                      174.0     128.045977     75.757967      4.0   \n",
      "DEATH_EVENT               174.0       0.321839      0.468530      0.0   \n",
      "\n",
      "                                25%       50%        75%       max  \n",
      "age                           52.00      60.0      70.00      95.0  \n",
      "anaemia                        0.00       0.0       1.00       1.0  \n",
      "creatinine_phosphokinase     111.25     244.5     582.00    7861.0  \n",
      "diabetes                       0.00       0.0       0.00       0.0  \n",
      "ejection_fraction             30.00      38.0      45.00      80.0  \n",
      "high_blood_pressure            0.00       0.0       1.00       1.0  \n",
      "platelets                 210000.00  257000.0  294750.00  621000.0  \n",
      "serum_creatinine               0.90       1.1       1.40       9.4  \n",
      "serum_sodium                 134.00     137.0     139.75     148.0  \n",
      "sex                            0.00       1.0       1.00       1.0  \n",
      "smoking                        0.00       0.0       1.00       1.0  \n",
      "time                          74.00     112.5     199.50     285.0  \n",
      "DEATH_EVENT                    0.00       0.0       1.00       1.0  \n"
     ]
    }
   ],
   "source": [
    "print('Диабетики:')\n",
    "print(df[df['diabetes']==1].describe().T)\n",
    "print('\\Недиабетики:')\n",
    "print(df[df['diabetes']==0].describe().T)"
   ]
  },
  {
   "cell_type": "code",
   "execution_count": 6,
   "id": "cf5fe35b",
   "metadata": {},
   "outputs": [
    {
     "data": {
      "text/html": [
       "<div>\n",
       "<style scoped>\n",
       "    .dataframe tbody tr th:only-of-type {\n",
       "        vertical-align: middle;\n",
       "    }\n",
       "\n",
       "    .dataframe tbody tr th {\n",
       "        vertical-align: top;\n",
       "    }\n",
       "\n",
       "    .dataframe thead th {\n",
       "        text-align: right;\n",
       "    }\n",
       "</style>\n",
       "<table border=\"1\" class=\"dataframe\">\n",
       "  <thead>\n",
       "    <tr style=\"text-align: right;\">\n",
       "      <th></th>\n",
       "      <th>age</th>\n",
       "      <th>anaemia</th>\n",
       "      <th>creatinine_phosphokinase</th>\n",
       "      <th>diabetes</th>\n",
       "      <th>ejection_fraction</th>\n",
       "      <th>high_blood_pressure</th>\n",
       "      <th>platelets</th>\n",
       "      <th>serum_creatinine</th>\n",
       "      <th>serum_sodium</th>\n",
       "      <th>sex</th>\n",
       "      <th>smoking</th>\n",
       "      <th>time</th>\n",
       "      <th>DEATH_EVENT</th>\n",
       "    </tr>\n",
       "  </thead>\n",
       "  <tbody>\n",
       "    <tr>\n",
       "      <th>0</th>\n",
       "      <td>75.0</td>\n",
       "      <td>0</td>\n",
       "      <td>582</td>\n",
       "      <td>0</td>\n",
       "      <td>20</td>\n",
       "      <td>1</td>\n",
       "      <td>265000.00</td>\n",
       "      <td>1.9</td>\n",
       "      <td>130</td>\n",
       "      <td>1</td>\n",
       "      <td>0</td>\n",
       "      <td>4</td>\n",
       "      <td>1</td>\n",
       "    </tr>\n",
       "    <tr>\n",
       "      <th>1</th>\n",
       "      <td>55.0</td>\n",
       "      <td>0</td>\n",
       "      <td>7861</td>\n",
       "      <td>0</td>\n",
       "      <td>38</td>\n",
       "      <td>0</td>\n",
       "      <td>263358.03</td>\n",
       "      <td>1.1</td>\n",
       "      <td>136</td>\n",
       "      <td>1</td>\n",
       "      <td>0</td>\n",
       "      <td>6</td>\n",
       "      <td>1</td>\n",
       "    </tr>\n",
       "    <tr>\n",
       "      <th>2</th>\n",
       "      <td>65.0</td>\n",
       "      <td>0</td>\n",
       "      <td>146</td>\n",
       "      <td>0</td>\n",
       "      <td>20</td>\n",
       "      <td>0</td>\n",
       "      <td>162000.00</td>\n",
       "      <td>1.3</td>\n",
       "      <td>129</td>\n",
       "      <td>1</td>\n",
       "      <td>1</td>\n",
       "      <td>7</td>\n",
       "      <td>1</td>\n",
       "    </tr>\n",
       "    <tr>\n",
       "      <th>3</th>\n",
       "      <td>50.0</td>\n",
       "      <td>1</td>\n",
       "      <td>111</td>\n",
       "      <td>0</td>\n",
       "      <td>20</td>\n",
       "      <td>0</td>\n",
       "      <td>210000.00</td>\n",
       "      <td>1.9</td>\n",
       "      <td>137</td>\n",
       "      <td>1</td>\n",
       "      <td>0</td>\n",
       "      <td>7</td>\n",
       "      <td>1</td>\n",
       "    </tr>\n",
       "    <tr>\n",
       "      <th>4</th>\n",
       "      <td>65.0</td>\n",
       "      <td>1</td>\n",
       "      <td>160</td>\n",
       "      <td>1</td>\n",
       "      <td>20</td>\n",
       "      <td>0</td>\n",
       "      <td>327000.00</td>\n",
       "      <td>2.7</td>\n",
       "      <td>116</td>\n",
       "      <td>0</td>\n",
       "      <td>0</td>\n",
       "      <td>8</td>\n",
       "      <td>1</td>\n",
       "    </tr>\n",
       "    <tr>\n",
       "      <th>...</th>\n",
       "      <td>...</td>\n",
       "      <td>...</td>\n",
       "      <td>...</td>\n",
       "      <td>...</td>\n",
       "      <td>...</td>\n",
       "      <td>...</td>\n",
       "      <td>...</td>\n",
       "      <td>...</td>\n",
       "      <td>...</td>\n",
       "      <td>...</td>\n",
       "      <td>...</td>\n",
       "      <td>...</td>\n",
       "      <td>...</td>\n",
       "    </tr>\n",
       "    <tr>\n",
       "      <th>294</th>\n",
       "      <td>62.0</td>\n",
       "      <td>0</td>\n",
       "      <td>61</td>\n",
       "      <td>1</td>\n",
       "      <td>38</td>\n",
       "      <td>1</td>\n",
       "      <td>155000.00</td>\n",
       "      <td>1.1</td>\n",
       "      <td>143</td>\n",
       "      <td>1</td>\n",
       "      <td>1</td>\n",
       "      <td>270</td>\n",
       "      <td>0</td>\n",
       "    </tr>\n",
       "    <tr>\n",
       "      <th>295</th>\n",
       "      <td>55.0</td>\n",
       "      <td>0</td>\n",
       "      <td>1820</td>\n",
       "      <td>0</td>\n",
       "      <td>38</td>\n",
       "      <td>0</td>\n",
       "      <td>270000.00</td>\n",
       "      <td>1.2</td>\n",
       "      <td>139</td>\n",
       "      <td>0</td>\n",
       "      <td>0</td>\n",
       "      <td>271</td>\n",
       "      <td>0</td>\n",
       "    </tr>\n",
       "    <tr>\n",
       "      <th>296</th>\n",
       "      <td>45.0</td>\n",
       "      <td>0</td>\n",
       "      <td>2060</td>\n",
       "      <td>1</td>\n",
       "      <td>60</td>\n",
       "      <td>0</td>\n",
       "      <td>742000.00</td>\n",
       "      <td>0.8</td>\n",
       "      <td>138</td>\n",
       "      <td>0</td>\n",
       "      <td>0</td>\n",
       "      <td>278</td>\n",
       "      <td>0</td>\n",
       "    </tr>\n",
       "    <tr>\n",
       "      <th>297</th>\n",
       "      <td>45.0</td>\n",
       "      <td>0</td>\n",
       "      <td>2413</td>\n",
       "      <td>0</td>\n",
       "      <td>38</td>\n",
       "      <td>0</td>\n",
       "      <td>140000.00</td>\n",
       "      <td>1.4</td>\n",
       "      <td>140</td>\n",
       "      <td>1</td>\n",
       "      <td>1</td>\n",
       "      <td>280</td>\n",
       "      <td>0</td>\n",
       "    </tr>\n",
       "    <tr>\n",
       "      <th>298</th>\n",
       "      <td>50.0</td>\n",
       "      <td>0</td>\n",
       "      <td>196</td>\n",
       "      <td>0</td>\n",
       "      <td>45</td>\n",
       "      <td>0</td>\n",
       "      <td>395000.00</td>\n",
       "      <td>1.6</td>\n",
       "      <td>136</td>\n",
       "      <td>1</td>\n",
       "      <td>1</td>\n",
       "      <td>285</td>\n",
       "      <td>0</td>\n",
       "    </tr>\n",
       "  </tbody>\n",
       "</table>\n",
       "<p>299 rows × 13 columns</p>\n",
       "</div>"
      ],
      "text/plain": [
       "      age  anaemia  creatinine_phosphokinase  diabetes  ejection_fraction  \\\n",
       "0    75.0        0                       582         0                 20   \n",
       "1    55.0        0                      7861         0                 38   \n",
       "2    65.0        0                       146         0                 20   \n",
       "3    50.0        1                       111         0                 20   \n",
       "4    65.0        1                       160         1                 20   \n",
       "..    ...      ...                       ...       ...                ...   \n",
       "294  62.0        0                        61         1                 38   \n",
       "295  55.0        0                      1820         0                 38   \n",
       "296  45.0        0                      2060         1                 60   \n",
       "297  45.0        0                      2413         0                 38   \n",
       "298  50.0        0                       196         0                 45   \n",
       "\n",
       "     high_blood_pressure  platelets  serum_creatinine  serum_sodium  sex  \\\n",
       "0                      1  265000.00               1.9           130    1   \n",
       "1                      0  263358.03               1.1           136    1   \n",
       "2                      0  162000.00               1.3           129    1   \n",
       "3                      0  210000.00               1.9           137    1   \n",
       "4                      0  327000.00               2.7           116    0   \n",
       "..                   ...        ...               ...           ...  ...   \n",
       "294                    1  155000.00               1.1           143    1   \n",
       "295                    0  270000.00               1.2           139    0   \n",
       "296                    0  742000.00               0.8           138    0   \n",
       "297                    0  140000.00               1.4           140    1   \n",
       "298                    0  395000.00               1.6           136    1   \n",
       "\n",
       "     smoking  time  DEATH_EVENT  \n",
       "0          0     4            1  \n",
       "1          0     6            1  \n",
       "2          1     7            1  \n",
       "3          0     7            1  \n",
       "4          0     8            1  \n",
       "..       ...   ...          ...  \n",
       "294        1   270            0  \n",
       "295        0   271            0  \n",
       "296        0   278            0  \n",
       "297        1   280            0  \n",
       "298        1   285            0  \n",
       "\n",
       "[299 rows x 13 columns]"
      ]
     },
     "execution_count": 6,
     "metadata": {},
     "output_type": "execute_result"
    }
   ],
   "source": [
    "# Данные для дерева решений\n",
    "tree_data = df\n",
    "tree_data"
   ]
  },
  {
   "cell_type": "markdown",
   "id": "746ea875",
   "metadata": {},
   "source": [
    "## Логистическая регрессия"
   ]
  },
  {
   "cell_type": "code",
   "execution_count": 7,
   "id": "b4d87f44",
   "metadata": {},
   "outputs": [
    {
     "data": {
      "text/plain": [
       "(array([[7.500e+01, 0.000e+00, 5.820e+02, ..., 0.000e+00, 4.000e+00,\n",
       "         1.000e+00],\n",
       "        [5.500e+01, 0.000e+00, 7.861e+03, ..., 0.000e+00, 6.000e+00,\n",
       "         1.000e+00],\n",
       "        [6.500e+01, 0.000e+00, 1.460e+02, ..., 1.000e+00, 7.000e+00,\n",
       "         1.000e+00],\n",
       "        ...,\n",
       "        [4.500e+01, 0.000e+00, 2.060e+03, ..., 0.000e+00, 2.780e+02,\n",
       "         0.000e+00],\n",
       "        [4.500e+01, 0.000e+00, 2.413e+03, ..., 1.000e+00, 2.800e+02,\n",
       "         0.000e+00],\n",
       "        [5.000e+01, 0.000e+00, 1.960e+02, ..., 1.000e+00, 2.850e+02,\n",
       "         0.000e+00]]),\n",
       " array([0, 0, 0, 0, 1, 0, 0, 1, 0, 0, 0, 0, 0, 0, 0, 0, 0, 0, 0, 1, 0, 1,\n",
       "        0, 1, 1, 1, 0, 1, 0, 1, 1, 0, 1, 1, 1, 1, 1, 1, 1, 1, 0, 1, 1, 1,\n",
       "        1, 1, 0, 1, 0, 0, 0, 0, 1, 1, 1, 0, 0, 0, 0, 1, 1, 0, 0, 0, 0, 0,\n",
       "        1, 0, 0, 1, 0, 1, 0, 1, 0, 0, 0, 1, 1, 0, 0, 0, 1, 0, 1, 0, 0, 1,\n",
       "        1, 0, 1, 1, 0, 0, 1, 0, 1, 0, 1, 1, 0, 0, 0, 0, 0, 0, 0, 1, 0, 1,\n",
       "        0, 0, 1, 0, 1, 0, 1, 0, 1, 0, 0, 1, 1, 0, 0, 0, 1, 1, 0, 1, 0, 1,\n",
       "        0, 0, 0, 0, 1, 0, 1, 0, 0, 0, 1, 0, 0, 0, 0, 0, 0, 0, 0, 1, 0, 1,\n",
       "        0, 1, 0, 0, 0, 0, 0, 0, 0, 1, 1, 1, 0, 1, 1, 0, 1, 0, 0, 0, 1, 0,\n",
       "        0, 0, 1, 0, 1, 1, 1, 0, 0, 1, 0, 1, 1, 0, 1, 0, 1, 1, 0, 0, 1, 0,\n",
       "        1, 1, 0, 1, 0, 0, 0, 1, 0, 0, 1, 1, 1, 0, 0, 1, 0, 0, 0, 0, 1, 1,\n",
       "        0, 0, 0, 0, 1, 1, 0, 0, 0, 0, 0, 0, 0, 0, 0, 0, 0, 0, 1, 0, 1, 1,\n",
       "        0, 0, 1, 1, 0, 0, 0, 1, 0, 1, 0, 1, 0, 1, 0, 1, 1, 0, 0, 0, 1, 1,\n",
       "        1, 0, 0, 1, 1, 1, 1, 1, 0, 0, 1, 0, 0, 1, 1, 1, 1, 0, 0, 0, 0, 1,\n",
       "        0, 1, 1, 0, 1, 0, 1, 1, 1, 0, 1, 0, 0], dtype=int64))"
      ]
     },
     "execution_count": 7,
     "metadata": {},
     "output_type": "execute_result"
    }
   ],
   "source": [
    "# Разбиение на матрицу объекты-признаки и целевой признак (таргет)\n",
    "X = df.drop(\"diabetes\", axis=1).values\n",
    "y = df[\"diabetes\"].values\n",
    "X, y"
   ]
  },
  {
   "cell_type": "code",
   "execution_count": 8,
   "id": "c970e5ea",
   "metadata": {},
   "outputs": [],
   "source": [
    "# Формирование обучающей и тестовой выборки\n",
    "X_train, X_test, y_train, y_test = train_test_split(X, y, test_size = 0.1, random_state = 9)"
   ]
  },
  {
   "cell_type": "code",
   "execution_count": 9,
   "id": "8c9cbf09",
   "metadata": {},
   "outputs": [
    {
     "name": "stdout",
     "output_type": "stream",
     "text": [
      "              precision    recall  f1-score   support\n",
      "\n",
      "           0       0.60      0.95      0.74       157\n",
      "           1       0.62      0.12      0.20       112\n",
      "\n",
      "    accuracy                           0.60       269\n",
      "   macro avg       0.61      0.53      0.47       269\n",
      "weighted avg       0.61      0.60      0.51       269\n",
      "               precision    recall  f1-score   support\n",
      "\n",
      "           0       0.57      0.94      0.71        17\n",
      "           1       0.50      0.08      0.13        13\n",
      "\n",
      "    accuracy                           0.57        30\n",
      "   macro avg       0.54      0.51      0.42        30\n",
      "weighted avg       0.54      0.57      0.46        30\n",
      "\n",
      "CPU times: total: 0 ns\n",
      "Wall time: 36.8 ms\n"
     ]
    }
   ],
   "source": [
    "%%time\n",
    "log_reg = LogisticRegression(max_iter=10000)\n",
    "log_reg.fit(X_train, y_train)\n",
    "y_pred_test_log_reg = log_reg.predict(X_test)\n",
    "y_pred_train_log_reg = log_reg.predict(X_train)\n",
    "print(classification_report(y_train, y_pred_train_log_reg), classification_report(y_test, y_pred_test_log_reg))"
   ]
  },
  {
   "cell_type": "code",
   "execution_count": 10,
   "id": "507a5549",
   "metadata": {},
   "outputs": [
    {
     "name": "stdout",
     "output_type": "stream",
     "text": [
      "CPU times: total: 188 ms\n",
      "Wall time: 285 ms\n"
     ]
    },
    {
     "data": {
      "text/plain": [
       "0.5654545454545455"
      ]
     },
     "execution_count": 10,
     "metadata": {},
     "output_type": "execute_result"
    }
   ],
   "source": [
    "%%time\n",
    "# Оценка модели с применением кросс-валидации\n",
    "scores_log_reg = cross_val_score(log_reg, X, y, cv=25)\n",
    "np.mean(scores_log_reg)"
   ]
  },
  {
   "cell_type": "code",
   "execution_count": 11,
   "id": "b1c916e7",
   "metadata": {},
   "outputs": [
    {
     "data": {
      "text/plain": [
       "<sklearn.metrics._plot.confusion_matrix.ConfusionMatrixDisplay at 0x2321b90f0d0>"
      ]
     },
     "execution_count": 11,
     "metadata": {},
     "output_type": "execute_result"
    },
    {
     "data": {
      "image/png": "[encoded data removed]",
      "text/plain": [
       "<Figure size 640x480 with 2 Axes>"
      ]
     },
     "metadata": {},
     "output_type": "display_data"
    }
   ],
   "source": [
    "cm_log_reg = confusion_matrix(y_test, y_pred_test_log_reg, labels = log_reg.classes_)\n",
    "display_ = ConfusionMatrixDisplay(\n",
    "    confusion_matrix=cm_log_reg\n",
    ")\n",
    "display_.plot()"
   ]
  },
  {
   "cell_type": "markdown",
   "id": "83e38de2",
   "metadata": {},
   "source": [
    "## Метод опорных векторов SVM"
   ]
  },
  {
   "cell_type": "code",
   "execution_count": 12,
   "id": "8bc43cc7",
   "metadata": {},
   "outputs": [
    {
     "name": "stdout",
     "output_type": "stream",
     "text": [
      "              precision    recall  f1-score   support\n",
      "\n",
      "           0       0.59      0.99      0.74       157\n",
      "           1       0.67      0.02      0.03       112\n",
      "\n",
      "    accuracy                           0.59       269\n",
      "   macro avg       0.63      0.51      0.39       269\n",
      "weighted avg       0.62      0.59      0.44       269\n",
      "               precision    recall  f1-score   support\n",
      "\n",
      "           0       0.57      1.00      0.72        17\n",
      "           1       0.00      0.00      0.00        13\n",
      "\n",
      "    accuracy                           0.57        30\n",
      "   macro avg       0.28      0.50      0.36        30\n",
      "weighted avg       0.32      0.57      0.41        30\n",
      "\n",
      "CPU times: total: 0 ns\n",
      "Wall time: 39.9 ms\n"
     ]
    },
    {
     "name": "stderr",
     "output_type": "stream",
     "text": [
      "C:\\Users\\Xiaomi\\AppData\\Local\\Programs\\Python\\Python310\\lib\\site-packages\\sklearn\\metrics\\_classification.py:1344: UndefinedMetricWarning: Precision and F-score are ill-defined and being set to 0.0 in labels with no predicted samples. Use `zero_division` parameter to control this behavior.\n",
      "  _warn_prf(average, modifier, msg_start, len(result))\n",
      "C:\\Users\\Xiaomi\\AppData\\Local\\Programs\\Python\\Python310\\lib\\site-packages\\sklearn\\metrics\\_classification.py:1344: UndefinedMetricWarning: Precision and F-score are ill-defined and being set to 0.0 in labels with no predicted samples. Use `zero_division` parameter to control this behavior.\n",
      "  _warn_prf(average, modifier, msg_start, len(result))\n",
      "C:\\Users\\Xiaomi\\AppData\\Local\\Programs\\Python\\Python310\\lib\\site-packages\\sklearn\\metrics\\_classification.py:1344: UndefinedMetricWarning: Precision and F-score are ill-defined and being set to 0.0 in labels with no predicted samples. Use `zero_division` parameter to control this behavior.\n",
      "  _warn_prf(average, modifier, msg_start, len(result))\n"
     ]
    }
   ],
   "source": [
    "%%time\n",
    "svc = SVC(kernel='rbf')\n",
    "svc.fit(X_train, y_train)\n",
    "y_pred_test_svc = svc.predict(X_test)\n",
    "y_pred_train_svc = svc.predict(X_train)\n",
    "print(classification_report(y_train, y_pred_train_svc), classification_report(y_test, y_pred_test_svc))"
   ]
  },
  {
   "cell_type": "code",
   "execution_count": 13,
   "id": "a4286b9b",
   "metadata": {},
   "outputs": [
    {
     "name": "stdout",
     "output_type": "stream",
     "text": [
      "CPU times: total: 31.2 ms\n",
      "Wall time: 78.8 ms\n"
     ]
    },
    {
     "data": {
      "text/plain": [
       "0.5819540229885056"
      ]
     },
     "execution_count": 13,
     "metadata": {},
     "output_type": "execute_result"
    }
   ],
   "source": [
    "%%time\n",
    "# Оценка модели с применением кросс-валидации\n",
    "scores_svc = cross_val_score(svc, X, y, cv=10)\n",
    "np.mean(scores_svc)"
   ]
  },
  {
   "cell_type": "code",
   "execution_count": 14,
   "id": "007f2b1d",
   "metadata": {},
   "outputs": [
    {
     "data": {
      "text/plain": [
       "<sklearn.metrics._plot.confusion_matrix.ConfusionMatrixDisplay at 0x2321b90e9b0>"
      ]
     },
     "execution_count": 14,
     "metadata": {},
     "output_type": "execute_result"
    },
    {
     "data": {
      "image/png": "[encoded data removed]",
      "text/plain": [
       "<Figure size 640x480 with 2 Axes>"
      ]
     },
     "metadata": {},
     "output_type": "display_data"
    }
   ],
   "source": [
    "cm_svc = confusion_matrix(y_test, y_pred_test_svc, labels=svc.classes_)\n",
    "display_ = ConfusionMatrixDisplay(\n",
    "    confusion_matrix=cm_svc\n",
    ")\n",
    "display_.plot()"
   ]
  },
  {
   "cell_type": "markdown",
   "id": "5413b857",
   "metadata": {},
   "source": [
    "## Дерево решений"
   ]
  },
  {
   "cell_type": "code",
   "execution_count": 15,
   "id": "0e2ba618",
   "metadata": {},
   "outputs": [
    {
     "data": {
      "text/plain": [
       "(array([[7.500e+01, 0.000e+00, 5.820e+02, ..., 0.000e+00, 4.000e+00,\n",
       "         1.000e+00],\n",
       "        [5.500e+01, 0.000e+00, 7.861e+03, ..., 0.000e+00, 6.000e+00,\n",
       "         1.000e+00],\n",
       "        [6.500e+01, 0.000e+00, 1.460e+02, ..., 1.000e+00, 7.000e+00,\n",
       "         1.000e+00],\n",
       "        ...,\n",
       "        [4.500e+01, 0.000e+00, 2.060e+03, ..., 0.000e+00, 2.780e+02,\n",
       "         0.000e+00],\n",
       "        [4.500e+01, 0.000e+00, 2.413e+03, ..., 1.000e+00, 2.800e+02,\n",
       "         0.000e+00],\n",
       "        [5.000e+01, 0.000e+00, 1.960e+02, ..., 1.000e+00, 2.850e+02,\n",
       "         0.000e+00]]),\n",
       " array([0, 0, 0, 0, 1, 0, 0, 1, 0, 0, 0, 0, 0, 0, 0, 0, 0, 0, 0, 1, 0, 1,\n",
       "        0, 1, 1, 1, 0, 1, 0, 1, 1, 0, 1, 1, 1, 1, 1, 1, 1, 1, 0, 1, 1, 1,\n",
       "        1, 1, 0, 1, 0, 0, 0, 0, 1, 1, 1, 0, 0, 0, 0, 1, 1, 0, 0, 0, 0, 0,\n",
       "        1, 0, 0, 1, 0, 1, 0, 1, 0, 0, 0, 1, 1, 0, 0, 0, 1, 0, 1, 0, 0, 1,\n",
       "        1, 0, 1, 1, 0, 0, 1, 0, 1, 0, 1, 1, 0, 0, 0, 0, 0, 0, 0, 1, 0, 1,\n",
       "        0, 0, 1, 0, 1, 0, 1, 0, 1, 0, 0, 1, 1, 0, 0, 0, 1, 1, 0, 1, 0, 1,\n",
       "        0, 0, 0, 0, 1, 0, 1, 0, 0, 0, 1, 0, 0, 0, 0, 0, 0, 0, 0, 1, 0, 1,\n",
       "        0, 1, 0, 0, 0, 0, 0, 0, 0, 1, 1, 1, 0, 1, 1, 0, 1, 0, 0, 0, 1, 0,\n",
       "        0, 0, 1, 0, 1, 1, 1, 0, 0, 1, 0, 1, 1, 0, 1, 0, 1, 1, 0, 0, 1, 0,\n",
       "        1, 1, 0, 1, 0, 0, 0, 1, 0, 0, 1, 1, 1, 0, 0, 1, 0, 0, 0, 0, 1, 1,\n",
       "        0, 0, 0, 0, 1, 1, 0, 0, 0, 0, 0, 0, 0, 0, 0, 0, 0, 0, 1, 0, 1, 1,\n",
       "        0, 0, 1, 1, 0, 0, 0, 1, 0, 1, 0, 1, 0, 1, 0, 1, 1, 0, 0, 0, 1, 1,\n",
       "        1, 0, 0, 1, 1, 1, 1, 1, 0, 0, 1, 0, 0, 1, 1, 1, 1, 0, 0, 0, 0, 1,\n",
       "        0, 1, 1, 0, 1, 0, 1, 1, 1, 0, 1, 0, 0], dtype=int64))"
      ]
     },
     "execution_count": 15,
     "metadata": {},
     "output_type": "execute_result"
    }
   ],
   "source": [
    "X_tree = tree_data.drop(\"diabetes\", axis=1, inplace=False).values\n",
    "y_tree = tree_data[\"diabetes\"].values\n",
    "X_tree, y_tree"
   ]
  },
  {
   "cell_type": "code",
   "execution_count": 16,
   "id": "6e90fe37",
   "metadata": {},
   "outputs": [],
   "source": [
    "# Формирование обучающей и тестовой выборки\n",
    "X_train_tree, X_test_tree, y_train_tree, y_test_tree = train_test_split(X_tree, y_tree, test_size = 0.1, random_state = 9)"
   ]
  },
  {
   "cell_type": "code",
   "execution_count": 17,
   "id": "23a446a9",
   "metadata": {},
   "outputs": [
    {
     "name": "stdout",
     "output_type": "stream",
     "text": [
      "              precision    recall  f1-score   support\n",
      "\n",
      "           0       0.64      0.98      0.77       157\n",
      "           1       0.89      0.21      0.35       112\n",
      "\n",
      "    accuracy                           0.66       269\n",
      "   macro avg       0.76      0.60      0.56       269\n",
      "weighted avg       0.74      0.66      0.59       269\n",
      "               precision    recall  f1-score   support\n",
      "\n",
      "           0       0.62      0.94      0.74        17\n",
      "           1       0.75      0.23      0.35        13\n",
      "\n",
      "    accuracy                           0.63        30\n",
      "   macro avg       0.68      0.59      0.55        30\n",
      "weighted avg       0.67      0.63      0.57        30\n",
      "\n"
     ]
    }
   ],
   "source": [
    "tree = DecisionTreeClassifier(random_state=9, max_depth=4).fit(X_train_tree, y_train_tree)\n",
    "y_pred_test_tree = tree.predict(X_test_tree)\n",
    "y_pred_train_tree = tree.predict(X_train_tree)\n",
    "print(classification_report(y_train_tree, y_pred_train_tree), classification_report(y_test_tree, y_pred_test_tree))\n",
    "# при стандартном обучении получаем переобучение"
   ]
  },
  {
   "cell_type": "code",
   "execution_count": 18,
   "id": "28e1f232",
   "metadata": {},
   "outputs": [
    {
     "data": {
      "text/plain": [
       "(4, 13)"
      ]
     },
     "execution_count": 18,
     "metadata": {},
     "output_type": "execute_result"
    }
   ],
   "source": [
    "tree.tree_.max_depth, tree.tree_.node_count"
   ]
  },
  {
   "cell_type": "code",
   "execution_count": 19,
   "id": "9788581e",
   "metadata": {},
   "outputs": [],
   "source": [
    "params = {\n",
    "    'max_depth': range(4, 13)\n",
    "}"
   ]
  },
  {
   "cell_type": "code",
   "execution_count": 20,
   "id": "3fbec4a9",
   "metadata": {},
   "outputs": [
    {
     "name": "stdout",
     "output_type": "stream",
     "text": [
      "CPU times: total: 344 ms\n",
      "Wall time: 602 ms\n"
     ]
    },
    {
     "data": {
      "text/plain": [
       "({'max_depth': 7}, 0.5680952380952381)"
      ]
     },
     "execution_count": 20,
     "metadata": {},
     "output_type": "execute_result"
    }
   ],
   "source": [
    "%%time\n",
    "grid_1 = GridSearchCV(\n",
    "    estimator=DecisionTreeClassifier(random_state=9),\n",
    "    param_grid=params,\n",
    "    scoring='accuracy',\n",
    "    cv=20\n",
    ")\n",
    "grid_1.fit(X_tree, y_tree)\n",
    "grid_1.best_params_, grid_1.best_score_"
   ]
  },
  {
   "cell_type": "code",
   "execution_count": 21,
   "id": "e6fad24e",
   "metadata": {},
   "outputs": [
    {
     "data": {
      "text/html": [
       "<pre>|--- age <= 66.50\n",
       "|   |--- platelets <= 449500.00\n",
       "|   |   |--- smoking <= 0.50\n",
       "|   |   |   |--- platelets <= 392500.00\n",
       "|   |   |   |   |--- platelets <= 295500.00\n",
       "|   |   |   |   |   |--- time <= 14.50\n",
       "|   |   |   |   |   |   |--- class: 0\n",
       "|   |   |   |   |   |--- time >  14.50\n",
       "|   |   |   |   |   |   |--- platelets <= 272500.00\n",
       "|   |   |   |   |   |   |   |--- class: 1\n",
       "|   |   |   |   |   |   |--- platelets >  272500.00\n",
       "|   |   |   |   |   |   |   |--- class: 0\n",
       "|   |   |   |   |--- platelets >  295500.00\n",
       "|   |   |   |   |   |--- creatinine_phosphokinase <= 62.50\n",
       "|   |   |   |   |   |   |--- class: 0\n",
       "|   |   |   |   |   |--- creatinine_phosphokinase >  62.50\n",
       "|   |   |   |   |   |   |--- serum_sodium <= 137.50\n",
       "|   |   |   |   |   |   |   |--- class: 1\n",
       "|   |   |   |   |   |   |--- serum_sodium >  137.50\n",
       "|   |   |   |   |   |   |   |--- class: 1\n",
       "|   |   |   |--- platelets >  392500.00\n",
       "|   |   |   |   |--- class: 0\n",
       "|   |   |--- smoking >  0.50\n",
       "|   |   |   |--- ejection_fraction <= 39.00\n",
       "|   |   |   |   |--- creatinine_phosphokinase <= 161.00\n",
       "|   |   |   |   |   |--- time <= 260.00\n",
       "|   |   |   |   |   |   |--- sex <= 0.50\n",
       "|   |   |   |   |   |   |   |--- class: 1\n",
       "|   |   |   |   |   |   |--- sex >  0.50\n",
       "|   |   |   |   |   |   |   |--- class: 0\n",
       "|   |   |   |   |   |--- time >  260.00\n",
       "|   |   |   |   |   |   |--- class: 1\n",
       "|   |   |   |   |--- creatinine_phosphokinase >  161.00\n",
       "|   |   |   |   |   |--- creatinine_phosphokinase <= 603.00\n",
       "|   |   |   |   |   |   |--- serum_creatinine <= 0.95\n",
       "|   |   |   |   |   |   |   |--- class: 0\n",
       "|   |   |   |   |   |   |--- serum_creatinine >  0.95\n",
       "|   |   |   |   |   |   |   |--- class: 1\n",
       "|   |   |   |   |   |--- creatinine_phosphokinase >  603.00\n",
       "|   |   |   |   |   |   |--- serum_sodium <= 123.00\n",
       "|   |   |   |   |   |   |   |--- class: 1\n",
       "|   |   |   |   |   |   |--- serum_sodium >  123.00\n",
       "|   |   |   |   |   |   |   |--- class: 0\n",
       "|   |   |   |--- ejection_fraction >  39.00\n",
       "|   |   |   |   |--- platelets <= 166500.00\n",
       "|   |   |   |   |   |--- ejection_fraction <= 56.00\n",
       "|   |   |   |   |   |   |--- class: 1\n",
       "|   |   |   |   |   |--- ejection_fraction >  56.00\n",
       "|   |   |   |   |   |   |--- class: 0\n",
       "|   |   |   |   |--- platelets >  166500.00\n",
       "|   |   |   |   |   |--- class: 0\n",
       "|   |--- platelets >  449500.00\n",
       "|   |   |--- class: 1\n",
       "|--- age >  66.50\n",
       "|   |--- time <= 21.50\n",
       "|   |   |--- class: 0\n",
       "|   |--- time >  21.50\n",
       "|   |   |--- time <= 37.00\n",
       "|   |   |   |--- creatinine_phosphokinase <= 41.50\n",
       "|   |   |   |   |--- class: 0\n",
       "|   |   |   |--- creatinine_phosphokinase >  41.50\n",
       "|   |   |   |   |--- ejection_fraction <= 25.00\n",
       "|   |   |   |   |   |--- class: 0\n",
       "|   |   |   |   |--- ejection_fraction >  25.00\n",
       "|   |   |   |   |   |--- age <= 94.50\n",
       "|   |   |   |   |   |   |--- class: 1\n",
       "|   |   |   |   |   |--- age >  94.50\n",
       "|   |   |   |   |   |   |--- class: 0\n",
       "|   |   |--- time >  37.00\n",
       "|   |   |   |--- time <= 211.00\n",
       "|   |   |   |   |--- serum_sodium <= 136.50\n",
       "|   |   |   |   |   |--- platelets <= 328000.00\n",
       "|   |   |   |   |   |   |--- serum_creatinine <= 0.85\n",
       "|   |   |   |   |   |   |   |--- class: 1\n",
       "|   |   |   |   |   |   |--- serum_creatinine >  0.85\n",
       "|   |   |   |   |   |   |   |--- class: 0\n",
       "|   |   |   |   |   |--- platelets >  328000.00\n",
       "|   |   |   |   |   |   |--- serum_sodium <= 133.00\n",
       "|   |   |   |   |   |   |   |--- class: 0\n",
       "|   |   |   |   |   |   |--- serum_sodium >  133.00\n",
       "|   |   |   |   |   |   |   |--- class: 1\n",
       "|   |   |   |   |--- serum_sodium >  136.50\n",
       "|   |   |   |   |   |--- platelets <= 163000.00\n",
       "|   |   |   |   |   |   |--- serum_creatinine <= 1.14\n",
       "|   |   |   |   |   |   |   |--- class: 0\n",
       "|   |   |   |   |   |   |--- serum_creatinine >  1.14\n",
       "|   |   |   |   |   |   |   |--- class: 1\n",
       "|   |   |   |   |   |--- platelets >  163000.00\n",
       "|   |   |   |   |   |   |--- class: 0\n",
       "|   |   |   |--- time >  211.00\n",
       "|   |   |   |   |--- serum_sodium <= 140.50\n",
       "|   |   |   |   |   |--- serum_sodium <= 136.50\n",
       "|   |   |   |   |   |   |--- ejection_fraction <= 36.50\n",
       "|   |   |   |   |   |   |   |--- class: 1\n",
       "|   |   |   |   |   |   |--- ejection_fraction >  36.50\n",
       "|   |   |   |   |   |   |   |--- class: 0\n",
       "|   |   |   |   |   |--- serum_sodium >  136.50\n",
       "|   |   |   |   |   |   |--- class: 1\n",
       "|   |   |   |   |--- serum_sodium >  140.50\n",
       "|   |   |   |   |   |--- class: 0\n",
       "</pre>"
      ],
      "text/plain": [
       "<IPython.core.display.HTML object>"
      ]
     },
     "execution_count": 21,
     "metadata": {},
     "output_type": "execute_result"
    }
   ],
   "source": [
    "tree_rules = export_text(grid_1.best_estimator_, feature_names=list(tree_data.drop(\"diabetes\", axis=1).columns))\n",
    "HTML('<pre>' + tree_rules + '</pre>')"
   ]
  },
  {
   "cell_type": "markdown",
   "id": "9654cdfc",
   "metadata": {},
   "source": [
    "### Важность признаков"
   ]
  },
  {
   "cell_type": "code",
   "execution_count": 22,
   "id": "9c9ea4ae",
   "metadata": {},
   "outputs": [],
   "source": [
    "def draw_feature_importances(tree_model, X_dataset, figsize=(18,5)):\n",
    "    \"\"\"\n",
    "    Вывод важности признаков в виде графика\n",
    "    \"\"\"\n",
    "    # Сортировка значений важности признаков по убыванию\n",
    "    list_to_sort = list(zip(X_dataset.columns.values, tree_model.feature_importances_))\n",
    "    sorted_list = sorted(list_to_sort, key=itemgetter(1), reverse = True)\n",
    "    # Названия признаков\n",
    "    labels = [x for x,_ in sorted_list]\n",
    "    # Важности признаков\n",
    "    data = [x for _,x in sorted_list]\n",
    "    # Вывод графика\n",
    "    fig, ax = plt.subplots(figsize=figsize)\n",
    "    ind = np.arange(len(labels))\n",
    "    plt.bar(ind, data)\n",
    "    plt.xticks(ind, labels, rotation='vertical')\n",
    "    # Вывод значений\n",
    "    for a,b in zip(ind, data):\n",
    "        plt.text(a-0.05, b+0.01, str(round(b,3)))\n",
    "    plt.show()\n",
    "    return labels, data"
   ]
  },
  {
   "cell_type": "code",
   "execution_count": 23,
   "id": "00aeeec5",
   "metadata": {},
   "outputs": [
    {
     "data": {
      "image/png": "[encoded data removed]",
      "text/plain": [
       "<Figure size 1800x500 with 1 Axes>"
      ]
     },
     "metadata": {},
     "output_type": "display_data"
    }
   ],
   "source": [
    "iris_tree_cl_fl, iris_tree_cl_fd = draw_feature_importances(grid_1.best_estimator_, tree_data)"
   ]
  }
 ],
 "metadata": {
  "kernelspec": {
   "display_name": "Python 3 (ipykernel)",
   "language": "python",
   "name": "python3"
  },
  "language_info": {
   "codemirror_mode": {
    "name": "ipython",
    "version": 3
   },
   "file_extension": ".py",
   "mimetype": "text/x-python",
   "name": "python",
   "nbconvert_exporter": "python",
   "pygments_lexer": "ipython3",
   "version": "3.10.10"
  }
 },
 "nbformat": 4,
 "nbformat_minor": 5
}
